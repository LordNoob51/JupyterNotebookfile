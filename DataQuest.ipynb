{
 "cells": [
  {
   "cell_type": "code",
   "execution_count": 1,
   "id": "f183ff02",
   "metadata": {},
   "outputs": [],
   "source": [
    "import pandas as pd\n",
    "import numpy as np\n",
    "import matplotlib.pyplot as plt\n",
    "import seaborn as sns"
   ]
  },
  {
   "cell_type": "code",
   "execution_count": 2,
   "id": "d38a89ae",
   "metadata": {},
   "outputs": [
    {
     "name": "stderr",
     "output_type": "stream",
     "text": [
      "c:\\users\\91747\\appdata\\local\\programs\\python\\python39\\lib\\site-packages\\IPython\\core\\interactiveshell.py:3441: DtypeWarning: Columns (8) have mixed types.Specify dtype option on import or set low_memory=False.\n",
      "  exec(code_obj, self.user_global_ns, self.user_ns)\n"
     ]
    }
   ],
   "source": [
    "df= pd.read_csv('ecommerce_analysis.csv')"
   ]
  },
  {
   "cell_type": "code",
   "execution_count": 3,
   "id": "dd4a2b38",
   "metadata": {},
   "outputs": [
    {
     "data": {
      "text/html": [
       "<div>\n",
       "<style scoped>\n",
       "    .dataframe tbody tr th:only-of-type {\n",
       "        vertical-align: middle;\n",
       "    }\n",
       "\n",
       "    .dataframe tbody tr th {\n",
       "        vertical-align: top;\n",
       "    }\n",
       "\n",
       "    .dataframe thead th {\n",
       "        text-align: right;\n",
       "    }\n",
       "</style>\n",
       "<table border=\"1\" class=\"dataframe\">\n",
       "  <thead>\n",
       "    <tr style=\"text-align: right;\">\n",
       "      <th></th>\n",
       "      <th>Unnamed: 0</th>\n",
       "      <th>item_id</th>\n",
       "      <th>status</th>\n",
       "      <th>created_at</th>\n",
       "      <th>sku</th>\n",
       "      <th>price</th>\n",
       "      <th>qty_ordered</th>\n",
       "      <th>grand_total</th>\n",
       "      <th>increment_id</th>\n",
       "      <th>category_name_1</th>\n",
       "      <th>sales_commission_code</th>\n",
       "      <th>discount_amount</th>\n",
       "      <th>payment_method</th>\n",
       "      <th>Working Date</th>\n",
       "      <th>BI Status</th>\n",
       "      <th>MV</th>\n",
       "      <th>Year</th>\n",
       "      <th>Month</th>\n",
       "      <th>Customer Since</th>\n",
       "      <th>M-Y</th>\n",
       "      <th>FY</th>\n",
       "      <th>Customer ID</th>\n",
       "    </tr>\n",
       "  </thead>\n",
       "  <tbody>\n",
       "    <tr>\n",
       "      <th>0</th>\n",
       "      <td>0</td>\n",
       "      <td>211131.0</td>\n",
       "      <td>complete</td>\n",
       "      <td>7/1/2016</td>\n",
       "      <td>kreations_YI 06-L</td>\n",
       "      <td>1950.0</td>\n",
       "      <td>1.0</td>\n",
       "      <td>1950.0</td>\n",
       "      <td>100147443</td>\n",
       "      <td>Women's Fashion</td>\n",
       "      <td>\\N</td>\n",
       "      <td>0.0</td>\n",
       "      <td>cod</td>\n",
       "      <td>7/1/2016</td>\n",
       "      <td>#REF!</td>\n",
       "      <td>1,950</td>\n",
       "      <td>2016.0</td>\n",
       "      <td>7.0</td>\n",
       "      <td>2016-7</td>\n",
       "      <td>7-2016</td>\n",
       "      <td>FY17</td>\n",
       "      <td>1.0</td>\n",
       "    </tr>\n",
       "    <tr>\n",
       "      <th>1</th>\n",
       "      <td>1</td>\n",
       "      <td>211133.0</td>\n",
       "      <td>canceled</td>\n",
       "      <td>7/1/2016</td>\n",
       "      <td>kcc_Buy 2 Frey Air Freshener &amp; Get 1 Kasual Bo...</td>\n",
       "      <td>240.0</td>\n",
       "      <td>1.0</td>\n",
       "      <td>240.0</td>\n",
       "      <td>100147444</td>\n",
       "      <td>Beauty &amp; Grooming</td>\n",
       "      <td>\\N</td>\n",
       "      <td>0.0</td>\n",
       "      <td>cod</td>\n",
       "      <td>7/1/2016</td>\n",
       "      <td>Gross</td>\n",
       "      <td>240</td>\n",
       "      <td>2016.0</td>\n",
       "      <td>7.0</td>\n",
       "      <td>2016-7</td>\n",
       "      <td>7-2016</td>\n",
       "      <td>FY17</td>\n",
       "      <td>2.0</td>\n",
       "    </tr>\n",
       "    <tr>\n",
       "      <th>2</th>\n",
       "      <td>2</td>\n",
       "      <td>211134.0</td>\n",
       "      <td>canceled</td>\n",
       "      <td>7/1/2016</td>\n",
       "      <td>Ego_UP0017-999-MR0</td>\n",
       "      <td>2450.0</td>\n",
       "      <td>1.0</td>\n",
       "      <td>2450.0</td>\n",
       "      <td>100147445</td>\n",
       "      <td>Women's Fashion</td>\n",
       "      <td>\\N</td>\n",
       "      <td>0.0</td>\n",
       "      <td>cod</td>\n",
       "      <td>7/1/2016</td>\n",
       "      <td>Gross</td>\n",
       "      <td>2,450</td>\n",
       "      <td>2016.0</td>\n",
       "      <td>7.0</td>\n",
       "      <td>2016-7</td>\n",
       "      <td>7-2016</td>\n",
       "      <td>FY17</td>\n",
       "      <td>3.0</td>\n",
       "    </tr>\n",
       "    <tr>\n",
       "      <th>3</th>\n",
       "      <td>3</td>\n",
       "      <td>211135.0</td>\n",
       "      <td>complete</td>\n",
       "      <td>7/1/2016</td>\n",
       "      <td>kcc_krone deal</td>\n",
       "      <td>360.0</td>\n",
       "      <td>1.0</td>\n",
       "      <td>60.0</td>\n",
       "      <td>100147446</td>\n",
       "      <td>Beauty &amp; Grooming</td>\n",
       "      <td>R-FSD-52352</td>\n",
       "      <td>300.0</td>\n",
       "      <td>cod</td>\n",
       "      <td>7/1/2016</td>\n",
       "      <td>Net</td>\n",
       "      <td>360</td>\n",
       "      <td>2016.0</td>\n",
       "      <td>7.0</td>\n",
       "      <td>2016-7</td>\n",
       "      <td>7-2016</td>\n",
       "      <td>FY17</td>\n",
       "      <td>4.0</td>\n",
       "    </tr>\n",
       "    <tr>\n",
       "      <th>4</th>\n",
       "      <td>4</td>\n",
       "      <td>211136.0</td>\n",
       "      <td>order_refunded</td>\n",
       "      <td>7/1/2016</td>\n",
       "      <td>BK7010400AG</td>\n",
       "      <td>555.0</td>\n",
       "      <td>2.0</td>\n",
       "      <td>1110.0</td>\n",
       "      <td>100147447</td>\n",
       "      <td>Soghaat</td>\n",
       "      <td>\\N</td>\n",
       "      <td>0.0</td>\n",
       "      <td>cod</td>\n",
       "      <td>7/1/2016</td>\n",
       "      <td>Valid</td>\n",
       "      <td>1,110</td>\n",
       "      <td>2016.0</td>\n",
       "      <td>7.0</td>\n",
       "      <td>2016-7</td>\n",
       "      <td>7-2016</td>\n",
       "      <td>FY17</td>\n",
       "      <td>5.0</td>\n",
       "    </tr>\n",
       "    <tr>\n",
       "      <th>...</th>\n",
       "      <td>...</td>\n",
       "      <td>...</td>\n",
       "      <td>...</td>\n",
       "      <td>...</td>\n",
       "      <td>...</td>\n",
       "      <td>...</td>\n",
       "      <td>...</td>\n",
       "      <td>...</td>\n",
       "      <td>...</td>\n",
       "      <td>...</td>\n",
       "      <td>...</td>\n",
       "      <td>...</td>\n",
       "      <td>...</td>\n",
       "      <td>...</td>\n",
       "      <td>...</td>\n",
       "      <td>...</td>\n",
       "      <td>...</td>\n",
       "      <td>...</td>\n",
       "      <td>...</td>\n",
       "      <td>...</td>\n",
       "      <td>...</td>\n",
       "      <td>...</td>\n",
       "    </tr>\n",
       "    <tr>\n",
       "      <th>447324</th>\n",
       "      <td>584429</td>\n",
       "      <td>905105.0</td>\n",
       "      <td>canceled</td>\n",
       "      <td>8/28/2018</td>\n",
       "      <td>BAGPRO5B0FA123819C4</td>\n",
       "      <td>490.0</td>\n",
       "      <td>1.0</td>\n",
       "      <td>2722.0</td>\n",
       "      <td>100562312</td>\n",
       "      <td>Beauty &amp; Grooming</td>\n",
       "      <td>100559728</td>\n",
       "      <td>0.0</td>\n",
       "      <td>Payaxis</td>\n",
       "      <td>8/28/2018</td>\n",
       "      <td>Gross</td>\n",
       "      <td>490</td>\n",
       "      <td>2018.0</td>\n",
       "      <td>8.0</td>\n",
       "      <td>2018-8</td>\n",
       "      <td>8-2018</td>\n",
       "      <td>FY19</td>\n",
       "      <td>114788.0</td>\n",
       "    </tr>\n",
       "    <tr>\n",
       "      <th>447325</th>\n",
       "      <td>584430</td>\n",
       "      <td>905106.0</td>\n",
       "      <td>canceled</td>\n",
       "      <td>8/28/2018</td>\n",
       "      <td>BAGFT5A3272925D642</td>\n",
       "      <td>224.0</td>\n",
       "      <td>1.0</td>\n",
       "      <td>2722.0</td>\n",
       "      <td>100562312</td>\n",
       "      <td>Beauty &amp; Grooming</td>\n",
       "      <td>100559728</td>\n",
       "      <td>0.0</td>\n",
       "      <td>Payaxis</td>\n",
       "      <td>8/28/2018</td>\n",
       "      <td>Gross</td>\n",
       "      <td>224</td>\n",
       "      <td>2018.0</td>\n",
       "      <td>8.0</td>\n",
       "      <td>2018-8</td>\n",
       "      <td>8-2018</td>\n",
       "      <td>FY19</td>\n",
       "      <td>114788.0</td>\n",
       "    </tr>\n",
       "    <tr>\n",
       "      <th>447326</th>\n",
       "      <td>584431</td>\n",
       "      <td>905107.0</td>\n",
       "      <td>canceled</td>\n",
       "      <td>8/28/2018</td>\n",
       "      <td>FAI5A95000195701</td>\n",
       "      <td>299.0</td>\n",
       "      <td>2.0</td>\n",
       "      <td>2722.0</td>\n",
       "      <td>100562312</td>\n",
       "      <td>Superstore</td>\n",
       "      <td>100559728</td>\n",
       "      <td>0.0</td>\n",
       "      <td>Payaxis</td>\n",
       "      <td>8/28/2018</td>\n",
       "      <td>Gross</td>\n",
       "      <td>598</td>\n",
       "      <td>2018.0</td>\n",
       "      <td>8.0</td>\n",
       "      <td>2018-8</td>\n",
       "      <td>8-2018</td>\n",
       "      <td>FY19</td>\n",
       "      <td>114788.0</td>\n",
       "    </tr>\n",
       "    <tr>\n",
       "      <th>447327</th>\n",
       "      <td>584480</td>\n",
       "      <td>905160.0</td>\n",
       "      <td>cod</td>\n",
       "      <td>8/28/2018</td>\n",
       "      <td>MATHUA5AE4D132A2D5A</td>\n",
       "      <td>21599.0</td>\n",
       "      <td>1.0</td>\n",
       "      <td>21899.0</td>\n",
       "      <td>100562351</td>\n",
       "      <td>Mobiles &amp; Tablets</td>\n",
       "      <td>C-PEW-112010</td>\n",
       "      <td>0.0</td>\n",
       "      <td>cod</td>\n",
       "      <td>8/28/2018</td>\n",
       "      <td>Valid</td>\n",
       "      <td>21,599</td>\n",
       "      <td>2018.0</td>\n",
       "      <td>8.0</td>\n",
       "      <td>2018-5</td>\n",
       "      <td>8-2018</td>\n",
       "      <td>FY19</td>\n",
       "      <td>106822.0</td>\n",
       "    </tr>\n",
       "    <tr>\n",
       "      <th>447328</th>\n",
       "      <td>584491</td>\n",
       "      <td>905171.0</td>\n",
       "      <td>processing</td>\n",
       "      <td>8/28/2018</td>\n",
       "      <td>MATAPP59AD3CFE4A7CA</td>\n",
       "      <td>44459.0</td>\n",
       "      <td>1.0</td>\n",
       "      <td>44759.0</td>\n",
       "      <td>100562360</td>\n",
       "      <td>Mobiles &amp; Tablets</td>\n",
       "      <td>111066</td>\n",
       "      <td>0.0</td>\n",
       "      <td>cod</td>\n",
       "      <td>8/28/2018</td>\n",
       "      <td>Gross</td>\n",
       "      <td>44,459</td>\n",
       "      <td>2018.0</td>\n",
       "      <td>8.0</td>\n",
       "      <td>2017-11</td>\n",
       "      <td>8-2018</td>\n",
       "      <td>FY19</td>\n",
       "      <td>67562.0</td>\n",
       "    </tr>\n",
       "  </tbody>\n",
       "</table>\n",
       "<p>447329 rows × 22 columns</p>\n",
       "</div>"
      ],
      "text/plain": [
       "        Unnamed: 0   item_id          status created_at  \\\n",
       "0                0  211131.0        complete   7/1/2016   \n",
       "1                1  211133.0        canceled   7/1/2016   \n",
       "2                2  211134.0        canceled   7/1/2016   \n",
       "3                3  211135.0        complete   7/1/2016   \n",
       "4                4  211136.0  order_refunded   7/1/2016   \n",
       "...            ...       ...             ...        ...   \n",
       "447324      584429  905105.0        canceled  8/28/2018   \n",
       "447325      584430  905106.0        canceled  8/28/2018   \n",
       "447326      584431  905107.0        canceled  8/28/2018   \n",
       "447327      584480  905160.0             cod  8/28/2018   \n",
       "447328      584491  905171.0      processing  8/28/2018   \n",
       "\n",
       "                                                      sku    price  \\\n",
       "0                                       kreations_YI 06-L   1950.0   \n",
       "1       kcc_Buy 2 Frey Air Freshener & Get 1 Kasual Bo...    240.0   \n",
       "2                                      Ego_UP0017-999-MR0   2450.0   \n",
       "3                                          kcc_krone deal    360.0   \n",
       "4                                             BK7010400AG    555.0   \n",
       "...                                                   ...      ...   \n",
       "447324                                BAGPRO5B0FA123819C4    490.0   \n",
       "447325                                 BAGFT5A3272925D642    224.0   \n",
       "447326                                   FAI5A95000195701    299.0   \n",
       "447327                                MATHUA5AE4D132A2D5A  21599.0   \n",
       "447328                                MATAPP59AD3CFE4A7CA  44459.0   \n",
       "\n",
       "        qty_ordered  grand_total increment_id    category_name_1  \\\n",
       "0               1.0       1950.0    100147443    Women's Fashion   \n",
       "1               1.0        240.0    100147444  Beauty & Grooming   \n",
       "2               1.0       2450.0    100147445    Women's Fashion   \n",
       "3               1.0         60.0    100147446  Beauty & Grooming   \n",
       "4               2.0       1110.0    100147447            Soghaat   \n",
       "...             ...          ...          ...                ...   \n",
       "447324          1.0       2722.0    100562312  Beauty & Grooming   \n",
       "447325          1.0       2722.0    100562312  Beauty & Grooming   \n",
       "447326          2.0       2722.0    100562312         Superstore   \n",
       "447327          1.0      21899.0    100562351  Mobiles & Tablets   \n",
       "447328          1.0      44759.0    100562360  Mobiles & Tablets   \n",
       "\n",
       "       sales_commission_code  discount_amount payment_method Working Date  \\\n",
       "0                         \\N              0.0            cod     7/1/2016   \n",
       "1                         \\N              0.0            cod     7/1/2016   \n",
       "2                         \\N              0.0            cod     7/1/2016   \n",
       "3                R-FSD-52352            300.0            cod     7/1/2016   \n",
       "4                         \\N              0.0            cod     7/1/2016   \n",
       "...                      ...              ...            ...          ...   \n",
       "447324             100559728              0.0        Payaxis    8/28/2018   \n",
       "447325             100559728              0.0        Payaxis    8/28/2018   \n",
       "447326             100559728              0.0        Payaxis    8/28/2018   \n",
       "447327          C-PEW-112010              0.0            cod    8/28/2018   \n",
       "447328                111066              0.0            cod    8/28/2018   \n",
       "\n",
       "       BI Status       MV     Year  Month Customer Since     M-Y    FY  \\\n",
       "0          #REF!    1,950   2016.0    7.0         2016-7  7-2016  FY17   \n",
       "1          Gross      240   2016.0    7.0         2016-7  7-2016  FY17   \n",
       "2          Gross    2,450   2016.0    7.0         2016-7  7-2016  FY17   \n",
       "3            Net      360   2016.0    7.0         2016-7  7-2016  FY17   \n",
       "4          Valid    1,110   2016.0    7.0         2016-7  7-2016  FY17   \n",
       "...          ...       ...     ...    ...            ...     ...   ...   \n",
       "447324     Gross      490   2018.0    8.0         2018-8  8-2018  FY19   \n",
       "447325     Gross      224   2018.0    8.0         2018-8  8-2018  FY19   \n",
       "447326     Gross      598   2018.0    8.0         2018-8  8-2018  FY19   \n",
       "447327     Valid   21,599   2018.0    8.0         2018-5  8-2018  FY19   \n",
       "447328     Gross   44,459   2018.0    8.0        2017-11  8-2018  FY19   \n",
       "\n",
       "        Customer ID  \n",
       "0               1.0  \n",
       "1               2.0  \n",
       "2               3.0  \n",
       "3               4.0  \n",
       "4               5.0  \n",
       "...             ...  \n",
       "447324     114788.0  \n",
       "447325     114788.0  \n",
       "447326     114788.0  \n",
       "447327     106822.0  \n",
       "447328      67562.0  \n",
       "\n",
       "[447329 rows x 22 columns]"
      ]
     },
     "execution_count": 3,
     "metadata": {},
     "output_type": "execute_result"
    }
   ],
   "source": [
    "pd.set_option('display.max_columns', None)\n",
    "df\n"
   ]
  },
  {
   "cell_type": "code",
   "execution_count": 4,
   "id": "4cb3a3ca",
   "metadata": {},
   "outputs": [],
   "source": [
    "#assuming first set of customers from customers since mean that customers having least customers since that is 2016-7\n",
    "filt_fset=(df['Customer Since']=='2016-7') "
   ]
  },
  {
   "cell_type": "code",
   "execution_count": 5,
   "id": "f9436737",
   "metadata": {},
   "outputs": [],
   "source": [
    "a=df.loc[filt_fset]['Customer ID'].value_counts().rename_axis('Customer ID').to_frame('counts').reset_index()\n",
    "customers_set_and_purchase=a.sort_values(by='Customer ID')"
   ]
  },
  {
   "cell_type": "code",
   "execution_count": 6,
   "id": "a32ca757",
   "metadata": {},
   "outputs": [
    {
     "data": {
      "text/html": [
       "<div>\n",
       "<style scoped>\n",
       "    .dataframe tbody tr th:only-of-type {\n",
       "        vertical-align: middle;\n",
       "    }\n",
       "\n",
       "    .dataframe tbody tr th {\n",
       "        vertical-align: top;\n",
       "    }\n",
       "\n",
       "    .dataframe thead th {\n",
       "        text-align: right;\n",
       "    }\n",
       "</style>\n",
       "<table border=\"1\" class=\"dataframe\">\n",
       "  <thead>\n",
       "    <tr style=\"text-align: right;\">\n",
       "      <th></th>\n",
       "      <th>Customer ID</th>\n",
       "      <th>counts</th>\n",
       "    </tr>\n",
       "  </thead>\n",
       "  <tbody>\n",
       "    <tr>\n",
       "      <th>1752</th>\n",
       "      <td>1.0</td>\n",
       "      <td>1</td>\n",
       "    </tr>\n",
       "    <tr>\n",
       "      <th>1482</th>\n",
       "      <td>2.0</td>\n",
       "      <td>2</td>\n",
       "    </tr>\n",
       "    <tr>\n",
       "      <th>745</th>\n",
       "      <td>3.0</td>\n",
       "      <td>5</td>\n",
       "    </tr>\n",
       "    <tr>\n",
       "      <th>28</th>\n",
       "      <td>4.0</td>\n",
       "      <td>424</td>\n",
       "    </tr>\n",
       "    <tr>\n",
       "      <th>1976</th>\n",
       "      <td>5.0</td>\n",
       "      <td>1</td>\n",
       "    </tr>\n",
       "    <tr>\n",
       "      <th>...</th>\n",
       "      <td>...</td>\n",
       "      <td>...</td>\n",
       "    </tr>\n",
       "    <tr>\n",
       "      <th>1517</th>\n",
       "      <td>2402.0</td>\n",
       "      <td>1</td>\n",
       "    </tr>\n",
       "    <tr>\n",
       "      <th>1518</th>\n",
       "      <td>2403.0</td>\n",
       "      <td>1</td>\n",
       "    </tr>\n",
       "    <tr>\n",
       "      <th>1128</th>\n",
       "      <td>2404.0</td>\n",
       "      <td>3</td>\n",
       "    </tr>\n",
       "    <tr>\n",
       "      <th>1361</th>\n",
       "      <td>2405.0</td>\n",
       "      <td>2</td>\n",
       "    </tr>\n",
       "    <tr>\n",
       "      <th>1021</th>\n",
       "      <td>2406.0</td>\n",
       "      <td>3</td>\n",
       "    </tr>\n",
       "  </tbody>\n",
       "</table>\n",
       "<p>2406 rows × 2 columns</p>\n",
       "</div>"
      ],
      "text/plain": [
       "      Customer ID  counts\n",
       "1752          1.0       1\n",
       "1482          2.0       2\n",
       "745           3.0       5\n",
       "28            4.0     424\n",
       "1976          5.0       1\n",
       "...           ...     ...\n",
       "1517       2402.0       1\n",
       "1518       2403.0       1\n",
       "1128       2404.0       3\n",
       "1361       2405.0       2\n",
       "1021       2406.0       3\n",
       "\n",
       "[2406 rows x 2 columns]"
      ]
     },
     "execution_count": 6,
     "metadata": {},
     "output_type": "execute_result"
    }
   ],
   "source": [
    "#below dataframe will give first set of customers and number of purchases by each \n",
    "customers_set_and_purchase"
   ]
  },
  {
   "cell_type": "code",
   "execution_count": 8,
   "id": "dba32cd8",
   "metadata": {},
   "outputs": [],
   "source": [
    "#dataframe for first set customers\n",
    "b=df.loc[filt_fset]"
   ]
  },
  {
   "cell_type": "code",
   "execution_count": 9,
   "id": "c1b0223f",
   "metadata": {},
   "outputs": [
    {
     "name": "stderr",
     "output_type": "stream",
     "text": [
      "c:\\users\\91747\\appdata\\local\\programs\\python\\python39\\lib\\site-packages\\seaborn\\distributions.py:1699: FutureWarning: The `bw` parameter is deprecated in favor of `bw_method` and `bw_adjust`. Using scott for `bw_method`, but please see the docs for the new parameters and update your code.\n",
      "  warnings.warn(msg, FutureWarning)\n",
      "c:\\users\\91747\\appdata\\local\\programs\\python\\python39\\lib\\site-packages\\seaborn\\distributions.py:1708: UserWarning: Support for alternate kernels has been removed. Using Gaussian kernel.\n",
      "  warnings.warn(msg, UserWarning)\n"
     ]
    },
    {
     "data": {
      "image/png": "[encoded data removed]",
      "text/plain": [
       "<Figure size 432x288 with 1 Axes>"
      ]
     },
     "metadata": {
      "needs_background": "light"
     },
     "output_type": "display_data"
    }
   ],
   "source": [
    "#density function for price\n",
    "ax1=sns.kdeplot(b.price, shade=True, kernel='epa',bw='scott', cut=0)"
   ]
  },
  {
   "cell_type": "code",
   "execution_count": 20,
   "id": "6f4d3ae7",
   "metadata": {},
   "outputs": [],
   "source": [
    "#below graph shows area near peak more clearly and gives more clear picture of the significant data"
   ]
  },
  {
   "cell_type": "code",
   "execution_count": 16,
   "id": "343e2e0f",
   "metadata": {},
   "outputs": [
    {
     "name": "stderr",
     "output_type": "stream",
     "text": [
      "c:\\users\\91747\\appdata\\local\\programs\\python\\python39\\lib\\site-packages\\seaborn\\distributions.py:1699: FutureWarning: The `bw` parameter is deprecated in favor of `bw_method` and `bw_adjust`. Using scott for `bw_method`, but please see the docs for the new parameters and update your code.\n",
      "  warnings.warn(msg, FutureWarning)\n",
      "c:\\users\\91747\\appdata\\local\\programs\\python\\python39\\lib\\site-packages\\seaborn\\distributions.py:1708: UserWarning: Support for alternate kernels has been removed. Using Gaussian kernel.\n",
      "  warnings.warn(msg, UserWarning)\n"
     ]
    },
    {
     "data": {
      "image/png": "[encoded data removed]",
      "text/plain": [
       "<Figure size 432x288 with 1 Axes>"
      ]
     },
     "metadata": {
      "needs_background": "light"
     },
     "output_type": "display_data"
    }
   ],
   "source": [
    "tick_array = np.linspace(0, 5000, 26)\n",
    "plt.xticks(tick_array)\n",
    "plt.xticks(rotation=90)\n",
    "ax=sns.kdeplot(b.loc[(b['price']<5000.00),'price'], shade=True, kernel='epa',bw='scott', cut=0)"
   ]
  },
  {
   "cell_type": "code",
   "execution_count": 18,
   "id": "2cae94e2",
   "metadata": {},
   "outputs": [],
   "source": [
    "#from the above graph price in range of 200 to 400 has been sold most"
   ]
  },
  {
   "cell_type": "code",
   "execution_count": 19,
   "id": "5c068fa0",
   "metadata": {},
   "outputs": [
    {
     "name": "stderr",
     "output_type": "stream",
     "text": [
      "c:\\users\\91747\\appdata\\local\\programs\\python\\python39\\lib\\site-packages\\seaborn\\distributions.py:1699: FutureWarning: The `bw` parameter is deprecated in favor of `bw_method` and `bw_adjust`. Using scott for `bw_method`, but please see the docs for the new parameters and update your code.\n",
      "  warnings.warn(msg, FutureWarning)\n",
      "c:\\users\\91747\\appdata\\local\\programs\\python\\python39\\lib\\site-packages\\seaborn\\distributions.py:1708: UserWarning: Support for alternate kernels has been removed. Using Gaussian kernel.\n",
      "  warnings.warn(msg, UserWarning)\n"
     ]
    },
    {
     "data": {
      "image/png": "[encoded data removed]",
      "text/plain": [
       "<Figure size 432x288 with 1 Axes>"
      ]
     },
     "metadata": {
      "needs_background": "light"
     },
     "output_type": "display_data"
    }
   ],
   "source": [
    "#density graph for quantity ordered\n",
    "ax=sns.kdeplot(b.qty_ordered, shade=True, kernel='epa',bw='scott')"
   ]
  },
  {
   "cell_type": "code",
   "execution_count": 20,
   "id": "9f08f477",
   "metadata": {},
   "outputs": [
    {
     "name": "stderr",
     "output_type": "stream",
     "text": [
      "c:\\users\\91747\\appdata\\local\\programs\\python\\python39\\lib\\site-packages\\seaborn\\distributions.py:1699: FutureWarning: The `bw` parameter is deprecated in favor of `bw_method` and `bw_adjust`. Using scott for `bw_method`, but please see the docs for the new parameters and update your code.\n",
      "  warnings.warn(msg, FutureWarning)\n",
      "c:\\users\\91747\\appdata\\local\\programs\\python\\python39\\lib\\site-packages\\seaborn\\distributions.py:1708: UserWarning: Support for alternate kernels has been removed. Using Gaussian kernel.\n",
      "  warnings.warn(msg, UserWarning)\n"
     ]
    },
    {
     "data": {
      "image/png": "[encoded data removed]",
      "text/plain": [
       "<Figure size 432x288 with 1 Axes>"
      ]
     },
     "metadata": {
      "needs_background": "light"
     },
     "output_type": "display_data"
    }
   ],
   "source": [
    "#below graph shows area near peak more clearly and gives more clear picture of the significant data\n",
    "ax=sns.kdeplot(b.loc[(b['qty_ordered']<10),'qty_ordered'], shade=True, kernel='epa',bw='scott')"
   ]
  },
  {
   "cell_type": "code",
   "execution_count": 21,
   "id": "513ad741",
   "metadata": {},
   "outputs": [
    {
     "data": {
      "text/plain": [
       "cod                 41342\n",
       "Payaxis              4359\n",
       "jazzwallet           2569\n",
       "jazzvoucher          2147\n",
       "Easypay              1070\n",
       "easypay_voucher       773\n",
       "customercredit        737\n",
       "cashatdoorstep        584\n",
       "mygateway             353\n",
       "ublcreditcard         346\n",
       "Easypay_MA            298\n",
       "mcblite               278\n",
       "internetbanking       126\n",
       "productcredit          81\n",
       "bankalfalah            72\n",
       "marketingexpense       38\n",
       "apg                     3\n",
       "Name: payment_method, dtype: int64"
      ]
     },
     "execution_count": 21,
     "metadata": {},
     "output_type": "execute_result"
    }
   ],
   "source": [
    "b['payment_method'].value_counts()"
   ]
  },
  {
   "cell_type": "code",
   "execution_count": 22,
   "id": "0acbce7f",
   "metadata": {},
   "outputs": [],
   "source": [
    "#from above most used payment method is cod"
   ]
  },
  {
   "cell_type": "code",
   "execution_count": 23,
   "id": "0fcb7c32",
   "metadata": {},
   "outputs": [
    {
     "data": {
      "text/html": [
       "<div>\n",
       "<style scoped>\n",
       "    .dataframe tbody tr th:only-of-type {\n",
       "        vertical-align: middle;\n",
       "    }\n",
       "\n",
       "    .dataframe tbody tr th {\n",
       "        vertical-align: top;\n",
       "    }\n",
       "\n",
       "    .dataframe thead th {\n",
       "        text-align: right;\n",
       "    }\n",
       "</style>\n",
       "<table border=\"1\" class=\"dataframe\">\n",
       "  <thead>\n",
       "    <tr style=\"text-align: right;\">\n",
       "      <th></th>\n",
       "      <th>Working Date</th>\n",
       "      <th>counts</th>\n",
       "    </tr>\n",
       "  </thead>\n",
       "  <tbody>\n",
       "    <tr>\n",
       "      <th>0</th>\n",
       "      <td>11/25/2016</td>\n",
       "      <td>1490</td>\n",
       "    </tr>\n",
       "    <tr>\n",
       "      <th>1</th>\n",
       "      <td>11/23/2016</td>\n",
       "      <td>1152</td>\n",
       "    </tr>\n",
       "    <tr>\n",
       "      <th>2</th>\n",
       "      <td>11/19/2016</td>\n",
       "      <td>1039</td>\n",
       "    </tr>\n",
       "    <tr>\n",
       "      <th>3</th>\n",
       "      <td>11/24/2016</td>\n",
       "      <td>954</td>\n",
       "    </tr>\n",
       "    <tr>\n",
       "      <th>4</th>\n",
       "      <td>11/22/2016</td>\n",
       "      <td>758</td>\n",
       "    </tr>\n",
       "  </tbody>\n",
       "</table>\n",
       "</div>"
      ],
      "text/plain": [
       "  Working Date  counts\n",
       "0   11/25/2016    1490\n",
       "1   11/23/2016    1152\n",
       "2   11/19/2016    1039\n",
       "3   11/24/2016     954\n",
       "4   11/22/2016     758"
      ]
     },
     "execution_count": 23,
     "metadata": {},
     "output_type": "execute_result"
    }
   ],
   "source": [
    "#top 5 days with most number of sales\n",
    "#here 1 quantity sold at a time or 5 quantity sold at a time, both are counted as 1 sale\n",
    "c=b['Working Date'].value_counts().head(5).rename_axis('Working Date').to_frame('counts').reset_index()\n",
    "c"
   ]
  },
  {
   "cell_type": "code",
   "execution_count": 24,
   "id": "d5301daf",
   "metadata": {},
   "outputs": [
    {
     "data": {
      "text/plain": [
       "23648317.810000002"
      ]
     },
     "execution_count": 24,
     "metadata": {},
     "output_type": "execute_result"
    }
   ],
   "source": [
    "#total money generated for 5 days\n",
    "b.loc[b['Working Date'].isin(c['Working Date']), 'grand_total'].sum()"
   ]
  },
  {
   "cell_type": "code",
   "execution_count": 42,
   "id": "0e25ea33",
   "metadata": {},
   "outputs": [
    {
     "data": {
      "text/plain": [
       "complete          32514\n",
       "canceled           9627\n",
       "order_refunded     8604\n",
       "received           3232\n",
       "refund             1050\n",
       "closed               62\n",
       "cod                  56\n",
       "paid                 23\n",
       "\\N                    4\n",
       "pending_paypal        3\n",
       "fraud                 1\n",
       "Name: status, dtype: int64"
      ]
     },
     "execution_count": 42,
     "metadata": {},
     "output_type": "execute_result"
    }
   ],
   "source": [
    "b['status'].value_counts()"
   ]
  },
  {
   "cell_type": "code",
   "execution_count": 25,
   "id": "ddeabb49",
   "metadata": {},
   "outputs": [
    {
     "data": {
      "text/plain": [
       "Payaxis            2873\n",
       "cod                2599\n",
       "jazzvoucher        1092\n",
       "jazzwallet         1045\n",
       "Easypay             595\n",
       "easypay_voucher     426\n",
       "mygateway           339\n",
       "ublcreditcard       265\n",
       "Easypay_MA          160\n",
       "mcblite              87\n",
       "internetbanking      73\n",
       "bankalfalah          41\n",
       "customercredit       14\n",
       "productcredit        10\n",
       "cashatdoorstep        5\n",
       "apg                   3\n",
       "Name: payment_method, dtype: int64"
      ]
     },
     "execution_count": 25,
     "metadata": {},
     "output_type": "execute_result"
    }
   ],
   "source": [
    "#from above,payment method with canceled status needs to be find\n",
    "b.loc[(b['status'] == 'canceled') , 'payment_method'].value_counts()"
   ]
  },
  {
   "cell_type": "code",
   "execution_count": 26,
   "id": "348acc7b",
   "metadata": {},
   "outputs": [],
   "source": [
    "#from above, Payaxis has most failed transcations"
   ]
  }
 ],
 "metadata": {
  "kernelspec": {
   "display_name": "Python 3 (ipykernel)",
   "language": "python",
   "name": "python3"
  },
  "language_info": {
   "codemirror_mode": {
    "name": "ipython",
    "version": 3
   },
   "file_extension": ".py",
   "mimetype": "text/x-python",
   "name": "python",
   "nbconvert_exporter": "python",
   "pygments_lexer": "ipython3",
   "version": "3.9.6"
  }
 },
 "nbformat": 4,
 "nbformat_minor": 5
}
